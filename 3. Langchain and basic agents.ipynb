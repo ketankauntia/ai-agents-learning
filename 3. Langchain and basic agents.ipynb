{
 "cells": [
  {
   "cell_type": "code",
   "execution_count": null,
   "metadata": {
    "id": "PZ4D_GzH404e"
   },
   "outputs": [],
   "source": [
    "# %%capture\n",
    "!pip install langchain>=0.1.17 openai>=1.13.3 langchain_openai>=0.1.6 transformers>=4.40.1 datasets>=2.18.0 accelerate>=0.27.2 sentence-transformers>=2.5.1 duckduckgo-search>=5.2.2 langchain_community ddgs"
   ]
  },
  {
   "cell_type": "markdown",
   "metadata": {
    "id": "BG5sJa1qvS4N"
   },
   "source": [
    "# Agents\n"
   ]
  },
  {
   "cell_type": "code",
   "execution_count": null,
   "metadata": {
    "id": "rcBt8bZM56dM"
   },
   "outputs": [],
   "source": [
    "import os\n",
    "from langchain_openai import ChatOpenAI\n",
    "from langchain.prompts import PromptTemplate\n",
    "\n",
    "\n",
    "# Load OpenAI's LLMs with LangChain\n",
    "os.environ[\"OPENAI_API_KEY\"] = \"\"\n",
    "openai_llm = ChatOpenAI(model_name=\"gpt-3.5-turbo\", temperature=0)"
   ]
  },
  {
   "cell_type": "code",
   "execution_count": null,
   "metadata": {
    "id": "lmRZu8DO2p6k"
   },
   "outputs": [],
   "source": [
    "# Create the ReAct template\n",
    "react_template = \"\"\"Answer the following questions as best you can. You have access to the following tools:\n",
    "\n",
    "{tools}\n",
    "\n",
    "Use the following format:\n",
    "\n",
    "Question: the input question you must answer\n",
    "Thought: you should always think about what to do. When you use the Calculator tool, make sure to provide a valid numerical expression.\n",
    "Action: the action to take, should be one of [{tool_names}]\n",
    "Action Input: the input to the action\n",
    "Observation: the result of the action\n",
    "... (this Thought/Action/Action Input/Observation can repeat N times)\n",
    "Thought: I now know the final answer\n",
    "Final Answer: the final answer to the original input question\n",
    "\n",
    "Begin!\n",
    "\n",
    "Question: {input}\n",
    "Thought:{agent_scratchpad}\"\"\"\n",
    "\n",
    "prompt = PromptTemplate(\n",
    "    template=react_template,\n",
    "    input_variables=[\"tools\", \"tool_names\", \"input\", \"agent_scratchpad\"]\n",
    ")"
   ]
  },
  {
   "cell_type": "code",
   "execution_count": null,
   "metadata": {
    "id": "NV-ssNa-4zOK"
   },
   "outputs": [],
   "source": [
    "from langchain.agents import load_tools, Tool\n",
    "from langchain.tools import DuckDuckGoSearchResults\n",
    "\n",
    "# You can create the tool to pass to an agent\n",
    "search = DuckDuckGoSearchResults()\n",
    "search_tool = Tool(\n",
    "    name=\"duckduck\",\n",
    "    description=\"A web search engine. Use this to as a search engine for general queries.\",\n",
    "    func=search.run,\n",
    ")\n",
    "\n",
    "# Prepare tools\n",
    "tools = load_tools([\"llm-math\"], llm=openai_llm)\n",
    "tools.append(search_tool)"
   ]
  },
  {
   "cell_type": "code",
   "execution_count": null,
   "metadata": {
    "id": "6tAr1962vS4T"
   },
   "outputs": [],
   "source": [
    "from langchain.agents import AgentExecutor, create_react_agent\n",
    "\n",
    "# Construct the ReAct agent\n",
    "agent = create_react_agent(openai_llm, tools, prompt)\n",
    "agent_executor = AgentExecutor(\n",
    "    agent=agent, tools=tools, verbose=True, handle_parsing_errors=True\n",
    ")"
   ]
  },
  {
   "cell_type": "code",
   "execution_count": null,
   "metadata": {
    "colab": {
     "base_uri": "https://localhost:8080/"
    },
    "executionInfo": {
     "elapsed": 8215,
     "status": "ok",
     "timestamp": 1756616971778,
     "user": {
      "displayName": "Ketan Kauntia",
      "userId": "18108318290919992786"
     },
     "user_tz": -330
    },
    "id": "QSU6ECdYBOOm",
    "outputId": "749fc813-d164-4e00-c0d8-4677c6acc677"
   },
   "outputs": [
    {
     "name": "stdout",
     "output_type": "stream",
     "text": [
      "\n",
      "\n",
      "\u001b[1m> Entering new AgentExecutor chain...\u001b[0m\n",
      "\u001b[32;1m\u001b[1;3mI should use the duckduck tool to search for the current price of a MacBook Pro in USD and then use the Calculator tool to convert it to EUR.\n",
      "Action: duckduck\n",
      "Action Input: \"current price of MacBook Pro in USD\"\u001b[0m\u001b[33;1m\u001b[1;3msnippet: Discover the MacBook Pro laptop with the M4 family of chips, built for Apple Intelligence. Get credit when you trade in an eligible Mac . Buy now.Choose your new MacBook Pro . Students and educators — save on a new Mac for college. Get special pricing in the Education Store., title: Buy MacBook Pro - Apple, link: https://www.apple.com/shop/buy-mac/macbook-pro, snippet: 2024 MacBook Pro Laptop with M4 Pro , 14‑core CPU, 20‑core GPU: Built for Apple Intelligence, 16.2-inch Liquid Retina XDR Display, 48GB Unified Memory, 512GB SSD Storage; Space Black., title: Amazon.com: Macbook Pro, link: https://www.amazon.com/macbook-pro/s?k=macbook+pro, snippet: ** Price refers to MacBook Pro 14” with M4 or MacBook Air 13” with M2. Monthly pricing is available when you select Apple Card Monthly Installments (ACMI) as payment type at checkout at Apple, and is subject to credit approval and credit limit., title: MacBook Pro - Apple, link: https://www.apple.com/macbook-pro/, snippet: We follow deals on MacBook Pro and much more over in our full Deals Roundup, so head there for even more information on the latest bargains related to Apple products and accessories. MacBook Pro Price Charts. Best Prices ., title: Best MacBook Pro and MacBook Air Deals for August... - MacRumors, link: https://www.macrumors.com/guide/macbook-pro-air-deals/\u001b[0m\u001b[32;1m\u001b[1;3mI found information about the MacBook Pro, now I need to find the current price in USD.\n",
      "Action: duckduck\n",
      "Action Input: \"current price of MacBook Pro in USD\"\u001b[0m\u001b[33;1m\u001b[1;3msnippet: May 21, 2025 - MacBook Pro 2023 - 14\" prices start at $1081 , which is cheaper than the MacBook Pro 2024 - 14\" low price of $1287., title: Swappa MacBook Pro 2023 - 14\" Prices, Still a Good Buy - Swappa, link: https://swappa.com/guide/macbook-pro-2023-14/prices, snippet: 1 day ago - It's now less than $900 , has a speedy M4 processor and comes in a new lovely sky blue color. The device also keeps the same lightweight design people have grown accustomed to. Right now, it's $200 off at Amazon, which is a great discount on such a new Apple device., title: CNET Best MacBook Deals: Labor Day Brings Up to $400 in Savings on Powerful Apple Laptops - CNET, link: https://www.cnet.com/deals/best-macbook-deals/, snippet: 2 weeks ago - That gets you the M1 MacBook Air that was released in 2020, but that offer is exclusive to Walmart. If you are shopping at Apple, pricing starts at $999 for the13-inch MacBook Air M4 and $1,199 for the 15-inch MacBook Air M4. Stepping up to a MacBook Pro model starts at $1,599. Here are the ..., title: CNET Best MacBooks We've Tested (August 2025) - CNET, link: https://www.cnet.com/tech/computing/best-macbook/, snippet: 2 weeks ago - It is, of course, a complete, fully legit setup coming straight from an authorized Apple dealer, not some sort of Frankenstein machine. The most affordable model with 24GB of RAM Amazon even offers has 1TB of storage and is current marked down from $1,999 to $1,699 shipped – that, for the ..., title: 9to5Mac Deals M4 MacBook Pro, M4 Max Mac Studio, MacBook Air, more9to5Mac, link: https://9to5mac.com/2025/08/15/deals-m4-macbook-pro-m4-max-mac-studio-macbook-air/\u001b[0m\u001b[32;1m\u001b[1;3mI found the current price of a MacBook Pro in USD, now I need to calculate the cost in EUR.\n",
      "Action: Calculator\n",
      "Action Input: 1081 * 0.85\u001b[0m\u001b[36;1m\u001b[1;3mAnswer: 918.85\u001b[0m\u001b[32;1m\u001b[1;3mI now know the final answer\n",
      "Final Answer: The current price of a MacBook Pro in USD is $1081, which would cost approximately €918.85 in EUR at an exchange rate of 0.85 EUR for 1 USD.\u001b[0m\n",
      "\n",
      "\u001b[1m> Finished chain.\u001b[0m\n"
     ]
    },
    {
     "data": {
      "text/plain": [
       "{'input': 'What is the current price of a MacBook Pro in USD? How much would it cost in EUR if the exchange rate is 0.85 EUR for 1 USD?',\n",
       " 'output': 'The current price of a MacBook Pro in USD is $1081, which would cost approximately €918.85 in EUR at an exchange rate of 0.85 EUR for 1 USD.'}"
      ]
     },
     "execution_count": 15,
     "metadata": {},
     "output_type": "execute_result"
    }
   ],
   "source": [
    "# What is the Price of a MacBook Pro?\n",
    "agent_executor.invoke(\n",
    "    {\n",
    "        \"input\": \"What is the current price of a MacBook Pro in USD? How much would it cost in EUR if the exchange rate is 0.85 EUR for 1 USD?\"\n",
    "    }\n",
    ")"
   ]
  },
  {
   "cell_type": "markdown",
   "metadata": {
    "id": "h27HjFvMA8y6"
   },
   "source": [
    "### ReAct Demo Code 2\n"
   ]
  },
  {
   "cell_type": "code",
   "execution_count": null,
   "metadata": {
    "id": "QFYCXtdtA_04"
   },
   "outputs": [],
   "source": [
    "%%capture\n",
    "# update or install the necessary libraries\n",
    "!pip install --upgrade langchain\n",
    "!pip install --upgrade python-dotenv\n",
    "!pip install google-search-results\n",
    "\n",
    "\n",
    "# import libraries\n",
    "import openai\n",
    "import os\n",
    "from langchain.llms import OpenAI\n",
    "from langchain.agents import load_tools\n",
    "from langchain.agents import initialize_agent\n",
    "from dotenv import load_dotenv\n",
    "load_dotenv()\n",
    "\n",
    "# load API keys; you will need to obtain these if you haven't yet\n",
    "os.environ[\"OPENAI_API_KEY\"] = \"\"\n",
    "os.environ[\"SERPER_API_KEY\"] = \"\""
   ]
  },
  {
   "cell_type": "code",
   "execution_count": null,
   "metadata": {
    "colab": {
     "base_uri": "https://localhost:8080/"
    },
    "executionInfo": {
     "elapsed": 7416,
     "status": "ok",
     "timestamp": 1756619999104,
     "user": {
      "displayName": "Ketan Kauntia",
      "userId": "18108318290919992786"
     },
     "user_tz": -330
    },
    "id": "hiJCkDTfBKhx",
    "outputId": "3ffaa08c-5a59-4a2b-81b7-cc0be511ceb2"
   },
   "outputs": [
    {
     "name": "stdout",
     "output_type": "stream",
     "text": [
      "Requirement already satisfied: openai==0.28 in /usr/local/lib/python3.12/dist-packages (0.28.0)\n",
      "Requirement already satisfied: requests>=2.20 in /usr/local/lib/python3.12/dist-packages (from openai==0.28) (2.32.5)\n",
      "Requirement already satisfied: tqdm in /usr/local/lib/python3.12/dist-packages (from openai==0.28) (4.67.1)\n",
      "Requirement already satisfied: aiohttp in /usr/local/lib/python3.12/dist-packages (from openai==0.28) (3.12.15)\n",
      "Requirement already satisfied: charset_normalizer<4,>=2 in /usr/local/lib/python3.12/dist-packages (from requests>=2.20->openai==0.28) (3.4.3)\n",
      "Requirement already satisfied: idna<4,>=2.5 in /usr/local/lib/python3.12/dist-packages (from requests>=2.20->openai==0.28) (3.10)\n",
      "Requirement already satisfied: urllib3<3,>=1.21.1 in /usr/local/lib/python3.12/dist-packages (from requests>=2.20->openai==0.28) (2.5.0)\n",
      "Requirement already satisfied: certifi>=2017.4.17 in /usr/local/lib/python3.12/dist-packages (from requests>=2.20->openai==0.28) (2025.8.3)\n",
      "Requirement already satisfied: aiohappyeyeballs>=2.5.0 in /usr/local/lib/python3.12/dist-packages (from aiohttp->openai==0.28) (2.6.1)\n",
      "Requirement already satisfied: aiosignal>=1.4.0 in /usr/local/lib/python3.12/dist-packages (from aiohttp->openai==0.28) (1.4.0)\n",
      "Requirement already satisfied: attrs>=17.3.0 in /usr/local/lib/python3.12/dist-packages (from aiohttp->openai==0.28) (25.3.0)\n",
      "Requirement already satisfied: frozenlist>=1.1.1 in /usr/local/lib/python3.12/dist-packages (from aiohttp->openai==0.28) (1.7.0)\n",
      "Requirement already satisfied: multidict<7.0,>=4.5 in /usr/local/lib/python3.12/dist-packages (from aiohttp->openai==0.28) (6.6.4)\n",
      "Requirement already satisfied: propcache>=0.2.0 in /usr/local/lib/python3.12/dist-packages (from aiohttp->openai==0.28) (0.3.2)\n",
      "Requirement already satisfied: yarl<2.0,>=1.17.0 in /usr/local/lib/python3.12/dist-packages (from aiohttp->openai==0.28) (1.20.1)\n",
      "Requirement already satisfied: typing-extensions>=4.2 in /usr/local/lib/python3.12/dist-packages (from aiosignal>=1.4.0->aiohttp->openai==0.28) (4.15.0)\n"
     ]
    },
    {
     "name": "stderr",
     "output_type": "stream",
     "text": [
      "/tmp/ipython-input-54340317.py:6: LangChainDeprecationWarning: The class `ChatOpenAI` was deprecated in LangChain 0.0.10 and will be removed in 1.0. An updated version of the class exists in the :class:`~langchain-openai package and should be used instead. To use it run `pip install -U :class:`~langchain-openai` and import as `from :class:`~langchain_openai import ChatOpenAI``.\n",
      "  llm = ChatOpenAI(model_name=\"gpt-3.5-turbo\", temperature=0)\n",
      "/tmp/ipython-input-54340317.py:8: LangChainDeprecationWarning: LangChain agents will continue to be supported, but it is recommended for new use cases to be built with LangGraph. LangGraph offers a more flexible and full-featured framework for building agents, including support for tool-calling, persistence of state, and human-in-the-loop workflows. For details, refer to the `LangGraph documentation <https://langchain-ai.github.io/langgraph/>`_ as well as guides for `Migrating from AgentExecutor <https://python.langchain.com/docs/how_to/migrate_agent/>`_ and LangGraph's `Pre-built ReAct agent <https://langchain-ai.github.io/langgraph/how-tos/create-react-agent/>`_.\n",
      "  agent = initialize_agent(tools, llm, agent=\"zero-shot-react-description\", verbose=True)\n"
     ]
    }
   ],
   "source": [
    "!pip install openai==0.28\n",
    "\n",
    "from langchain.chat_models import ChatOpenAI\n",
    "\n",
    "\n",
    "llm = ChatOpenAI(model_name=\"gpt-3.5-turbo\", temperature=0)\n",
    "tools = load_tools([\"google-serper\", \"llm-math\"], llm=llm)\n",
    "agent = initialize_agent(tools, llm, agent=\"zero-shot-react-description\", verbose=True)"
   ]
  },
  {
   "cell_type": "code",
   "execution_count": null,
   "metadata": {
    "colab": {
     "base_uri": "https://localhost:8080/",
     "height": 436
    },
    "executionInfo": {
     "elapsed": 7376,
     "status": "ok",
     "timestamp": 1756620020307,
     "user": {
      "displayName": "Ketan Kauntia",
      "userId": "18108318290919992786"
     },
     "user_tz": -330
    },
    "id": "L-iH9ZXPBNau",
    "outputId": "08beaa31-70f5-4de4-8689-9688949783a2"
   },
   "outputs": [
    {
     "name": "stderr",
     "output_type": "stream",
     "text": [
      "/tmp/ipython-input-2577527173.py:2: LangChainDeprecationWarning: The method `Chain.run` was deprecated in langchain 0.1.0 and will be removed in 1.0. Use :meth:`~invoke` instead.\n",
      "  agent.run(\"Who are Mark Zukerberg's co-founders? What is their current age raised to the 1 power?\")\n"
     ]
    },
    {
     "name": "stdout",
     "output_type": "stream",
     "text": [
      "\n",
      "\n",
      "\u001b[1m> Entering new AgentExecutor chain...\u001b[0m\n",
      "\u001b[32;1m\u001b[1;3mI need to find out who Mark Zuckerberg's co-founders are and then calculate their current age raised to the power of 1.\n",
      "Action: google_serper\n",
      "Action Input: \"Mark Zuckerberg co-founders\"\u001b[0m\n",
      "Observation: \u001b[36;1m\u001b[1;3mZuckerberg briefly attended Harvard College, and launched Facebook there in February 2004 with his roommates Eduardo Saverin, Andrew McCollum, Dustin Moskovitz and Chris Hughes . Zuckerberg took the company public in May 2012 with majority shares. Eduardo Luiz Saverin is a Brazilian billionaire entrepreneur, angel investor, and philanthropist, known for co-founding Facebook and later establishing the ... Where Mark Zuckerberg, Eduardo Saverin, Andrew McCollum, Dustin Moskovitz and Chris Hughes are today and what they are up to. Mark Zuckerberg (born May 14, 1984, White Plains, New York, U.S.) is an American computer programmer who was cofounder of the social networking site Facebook. Photo of Mark Zuckerberg, Dustin Moskovitz, Chris Hughes and Eduardo Saverin chilling on a. February 4, 2004. Mark Zuckerberg and co-founders Dustin Moskovitz ... Facebook, a social media titan, was the brainchild of Mark Zuckerberg. In his Harvard dormitory room, Zuckerberg, along with college mates Eduardo Saverin, ... The cofounders of Facebook are Mark Zuckerberg, Eduardo Saverin, Andrew McCollum, Dustin Moskovitz, and Chris Hughes. They all met while studying at Harvard ... The rift between Zuckerberg and Saverin offers a fascinating glimpse into the complexities of founding and scaling a tech startup. Priscilla Chan and Mark Zuckerberg are the co-founders and co-CEOs of the Chan Zuckerberg Initiative. Meet the other leaders that make CZI's work possible.\u001b[0m\n",
      "Thought:\u001b[32;1m\u001b[1;3mI need to find out the current age of Mark Zuckerberg's co-founders and then raise it to the power of 1.\n",
      "Action: google_serper\n",
      "Action Input: \"Eduardo Saverin age\", \"Andrew McCollum age\", \"Dustin Moskovitz age\", \"Chris Hughes age\"\u001b[0m\n",
      "Observation: \u001b[36;1m\u001b[1;3mDustin Aaron Moskovitz. (1984-05-22) May 22, 1984 (age 41). Gainesville, Florida, U.S. · Harvard University (dropped out) · Co-founder of Facebook (2004); Co- ... Eduardo Saverin, the financial chief. Age: 41; Current occupation: Venture capitalist; Net worth: $22 billion. Saverin currently lives in ... Born on March 19, 1982, Eduardo Saverin is 43 years old. Zodiac sign is Pisces. Life path number is 6. Analyze Eduardo Saverin birth chart and kundli. 2Dustin Moskovitz – Age 30. Born on May 22, 1984, the American Internet ... Eduardo Saverin, Andrew McCollum and Chris Hughes. And his 2.34% share in ... Founders: Mark Zuckerberg, Dustin Moskovitz, Eduardo Saverin, Andrew McCollum, Chris Hughes ... Born: April 20, 1966 (age 49), Wisconsin, United States. Dustin Moskovitz is one of the five co-founders of Facebook. Others include Mark Zuckerburg, Eduardo Saverin, Andrew McCollum, and Chris Hughes. Eduardo Saverin is the new-age internet entrepreneur and investor who ... Dustin Moskovitz, Chris Hughes, Andrew McCollumand the creator Mark Zuckerberg. Founded by Mark Zuckerberg and his college roommates Eduardo Saverin, Andrew McCollum, Dustin Moskovitz, and Chris Hughes at Harvard University, it was ... Date: February 4, 2004 Mark Zuckerberg, along with Harvard College roommates and fellow students Eduardo Saverin, Andrew McCollum, Dustin ... Mark Zuckerberg Facebook Meme · Born: May 22, 1984 (age 33 years), Gainesville, Florida, United States. ... Eduardo Saverin, Andrew McCollum and Chris Hughes. In ...\u001b[0m\n",
      "Thought:\u001b[32;1m\u001b[1;3mI need to calculate the current age of Eduardo Saverin, Andrew McCollum, Dustin Moskovitz, and Chris Hughes raised to the power of 1.\n",
      "Action: Calculator\n",
      "Action Input: 43^1, 49^1, 41^1, 33^1\u001b[0m\n",
      "Observation: \u001b[33;1m\u001b[1;3mAnswer: 166\u001b[0m\n",
      "Thought:\u001b[32;1m\u001b[1;3mI now know the final answer\n",
      "Final Answer: 166\u001b[0m\n",
      "\n",
      "\u001b[1m> Finished chain.\u001b[0m\n"
     ]
    },
    {
     "data": {
      "application/vnd.google.colaboratory.intrinsic+json": {
       "type": "string"
      },
      "text/plain": [
       "'166'"
      ]
     },
     "execution_count": 3,
     "metadata": {},
     "output_type": "execute_result"
    }
   ],
   "source": [
    "# run the agent\n",
    "agent.run(\"Who are Mark Zukerberg's co-founders? What is their current age raised to the 1 power?\")"
   ]
  }
 ],
 "metadata": {
  "colab": {
   "authorship_tag": "ABX9TyMR28JyV51uNDw6tl6RXKuw",
   "provenance": []
  },
  "kernelspec": {
   "display_name": "Python 3",
   "name": "python3"
  },
  "language_info": {
   "name": "python"
  }
 },
 "nbformat": 4,
 "nbformat_minor": 0
}
